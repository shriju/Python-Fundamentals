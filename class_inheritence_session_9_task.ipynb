{
  "nbformat": 4,
  "nbformat_minor": 0,
  "metadata": {
    "colab": {
      "provenance": [],
      "collapsed_sections": [
        "BCleRtX43caS",
        "KBbGNTtQ47mJ",
        "ExIxsv4y-oEd",
        "OcQhJvXVALgp",
        "sEsGEqOHCSWG",
        "v1M5Yh9ZZO0z"
      ],
      "include_colab_link": true
    },
    "kernelspec": {
      "name": "python3",
      "display_name": "Python 3"
    },
    "language_info": {
      "name": "python"
    }
  },
  "cells": [
    {
      "cell_type": "markdown",
      "metadata": {
        "id": "view-in-github",
        "colab_type": "text"
      },
      "source": [
        "<a href=\"https://colab.research.google.com/github/shriju/Python-Fundamentals/blob/main/class_inheritence_session_9_task.ipynb\" target=\"_parent\"><img src=\"https://colab.research.google.com/assets/colab-badge.svg\" alt=\"Open In Colab\"/></a>"
      ]
    },
    {
      "cell_type": "markdown",
      "source": [
        "### `Problem-1:` Class inheritence\n",
        "\n",
        "Create a **Bus** child class that inherits from the Vehicle class. The default fare charge of any vehicle is seating capacity * 100. If Vehicle is Bus instance, we need to add an extra 10% on full fare as a maintenance charge. So total fare for bus instance will become the final amount = total fare + 10% of the total fare.\n",
        "\n",
        "Note: The bus seating capacity is 50. so the final fare amount should be 5500. You need to override the fare() method of a Vehicle class in Bus class."
      ],
      "metadata": {
        "id": "BCleRtX43caS"
      }
    },
    {
      "cell_type": "code",
      "execution_count": null,
      "metadata": {
        "colab": {
          "base_uri": "https://localhost:8080/"
        },
        "id": "6jVFCXKz3YZI",
        "outputId": "868a1073-a0a3-4afe-f04e-88fd459c4c10"
      },
      "outputs": [
        {
          "output_type": "stream",
          "name": "stdout",
          "text": [
            "5500.0\n"
          ]
        }
      ],
      "source": [
        "# Write code here\n",
        "\n",
        "class Vehicle:\n",
        "  def __init__(self, type, capacity):\n",
        "    self.type=type\n",
        "    self.capacity=capacity\n",
        "  \n",
        "  def fare(self):\n",
        "    return 100*self.capacity\n",
        "\n",
        "class Bus(Vehicle):\n",
        "  def fare(self):\n",
        "    base_fare=super().fare()\n",
        "    bus_fare=base_fare + 0.1*base_fare\n",
        "    return bus_fare\n",
        "\n",
        "bus=Bus(\"School Bus\", 50)\n",
        "print(bus.fare())"
      ]
    },
    {
      "cell_type": "markdown",
      "source": [
        "### `Problem-3:` Write a program that has a class Point. Define another class Location which has two objects (Location & Destination) of class Point. Also define a function in Location that prints the reflection of Destination on the x axis."
      ],
      "metadata": {
        "id": "ExIxsv4y-oEd"
      }
    },
    {
      "cell_type": "code",
      "source": [
        "class Point:\n",
        "  def __init__(self,x,y):\n",
        "    self.x=x\n",
        "    self.y=y\n",
        "  def show_point(self):\n",
        "    return '{}, {}'.format(self.x, self.y)\n",
        "\n",
        "class Location:\n",
        "  def __init__(self, x1,y1,x2,y2):\n",
        "    self.location=Point(x1,y1)\n",
        "    self.destination=Point(x2,y2)\n",
        "  def show(self):\n",
        "    print(\"Location is\", self.location.show_point())\n",
        "    print(\"Destination is\", self.destination.show_point())\n",
        "  def reflection(self):\n",
        "    self.destination.y=-self.destination.y\n",
        "    print('Reflection is', self.destination.show_point())\n",
        "\n",
        "L= Location(0,0,1,1)\n",
        "L.show()\n",
        "L.reflection()\n"
      ],
      "metadata": {
        "id": "yT2QtzQp5VAB",
        "colab": {
          "base_uri": "https://localhost:8080/"
        },
        "outputId": "c96a1ae0-222e-4895-9a42-84c2356b7c9b"
      },
      "execution_count": 5,
      "outputs": [
        {
          "output_type": "stream",
          "name": "stdout",
          "text": [
            "Location is 0, 0\n",
            "Destination is 1, 1\n",
            "Reflection is 1, -1\n"
          ]
        }
      ]
    },
    {
      "cell_type": "markdown",
      "source": [
        "### `Problem-4:` Write a program that has an abstract class Polygon. Derive two classes Rectangle and Triamgle from Polygon and write methods to get the details of their dimensions and hence calculate the area."
      ],
      "metadata": {
        "id": "OcQhJvXVALgp"
      }
    },
    {
      "cell_type": "code",
      "source": [
        "from abc import ABC, abstractmethod\n",
        "class Polygon(ABC):\n",
        "  @abstractmethod\n",
        "  def get_data():\n",
        "    pass\n",
        "  @abstractmethod\n",
        "  def area():\n",
        "    pass\n",
        "\n",
        "class Rectangle(Polygon):\n",
        "  def get_data(self, l, b):\n",
        "    self.l=l\n",
        "    self.b=b\n",
        "  def area(self):\n",
        "    return self.l * self.b\n",
        "\n",
        "class Triangle(Polygon):\n",
        "  def get_data(self, b, h):\n",
        "    self.b=b\n",
        "    self.h=h\n",
        "  def area(self):\n",
        "    return 0.5*self.b*self.h\n",
        "\n",
        "rect=Rectangle()\n",
        "rect.get_data(4,5)\n",
        "print(rect.area())\n",
        "\n",
        "tri=Triangle()\n",
        "tri.get_data(10,5)\n",
        "tri.area()\n",
        "\n",
        "\n",
        "\n"
      ],
      "metadata": {
        "id": "9IMrtdUH__eA",
        "colab": {
          "base_uri": "https://localhost:8080/"
        },
        "outputId": "43da4f44-0be0-4bdb-a885-631617bb26f6"
      },
      "execution_count": 2,
      "outputs": [
        {
          "output_type": "stream",
          "name": "stdout",
          "text": [
            "20\n"
          ]
        },
        {
          "output_type": "execute_result",
          "data": {
            "text/plain": [
              "25.0"
            ]
          },
          "metadata": {},
          "execution_count": 2
        }
      ]
    },
    {
      "cell_type": "markdown",
      "source": [
        "### `Problem-5:` Write a program with class Bill. The users have the option to pay the bill either by cheque or by cash. Use the inheritance to model this situation."
      ],
      "metadata": {
        "id": "sEsGEqOHCSWG"
      }
    },
    {
      "cell_type": "code",
      "source": [
        "class Bill:\n",
        "  def __init__(self, items, price):\n",
        "    self.total=0\n",
        "    self.items=items\n",
        "    self.price=price\n",
        "    for i in self.price:\n",
        "      self.total=self.total+i\n",
        "  \n",
        "  def display(self):\n",
        "    print('Item\\t\\t\\t Price')\n",
        "    for i in range(len(self.items)):\n",
        "      print(self.items[i], '\\t', self.price[i])\n",
        "    print('*' * 10)\n",
        "\n",
        "    print('Total', self.total)\n",
        "\n",
        "class CashPayment(Bill):\n",
        "  def __init__(self, items, price, deno, value):\n",
        "    super().__init__(items, price)\n",
        "\n",
        "    self.deno=deno\n",
        "    self.value=value\n",
        "  \n",
        "  def show_cash_pmt(self):\n",
        "    super().display()\n",
        "    for i in range(len(self.deno)):\n",
        "      print(self.deno[i], '*', self.value[i], '=', self.deno[i] * self.value[i])\n",
        "\n",
        "class CheckPayment(Bill):\n",
        "  def __init__(self, items, price, chkno, bank):\n",
        "    super().__init__(items, price)\n",
        "\n",
        "    self.chkno=chkno\n",
        "    self.bank=bank\n",
        "\n",
        "  def show_chk_pmt(self):\n",
        "    super().display()\n",
        "    print(\"Check number: \", self.chkno)\n",
        "    print('Bank Name:', self.bank)\n",
        "\n"
      ],
      "metadata": {
        "id": "l0WFyP2PB3nf"
      },
      "execution_count": 8,
      "outputs": []
    },
    {
      "cell_type": "code",
      "source": [
        "items = [\"External Hard Disk\", \"RAM\", \"Printer\", \"Pen Drive\"]\n",
        "price = [5000, 2000, 6000, 800]\n",
        "option = int(input(\"Would you like to pay by cheque or cash (1/2): \"))\n",
        "\n",
        "if option == 1:\n",
        "    bank= input(\"Enter the name of the bank: \")\n",
        "    chkno = input(\"Enter the cheque number: \")\n",
        "    cheque =CheckPayment(items, price, chkno, bank)\n",
        "    cheque.show_chk_pmt()\n",
        "\n",
        "else:\n",
        "    deno = [10, 20, 50, 100, 500, 2000]\n",
        "    value = [1, 1, 1, 20, 4, 5]\n",
        "    cash = CashPayment(items, price, deno, value)\n",
        "    cash.show_cash_payment()"
      ],
      "metadata": {
        "colab": {
          "base_uri": "https://localhost:8080/"
        },
        "id": "jhMAeewZLiFB",
        "outputId": "a633f0a8-b938-4c54-be33-ff15c750ad8c"
      },
      "execution_count": 10,
      "outputs": [
        {
          "output_type": "stream",
          "name": "stdout",
          "text": [
            "Would you like to pay by cheque or cash (1/2): 1\n",
            "Enter the name of the bank: sbi\n",
            "Enter the cheque number: 1121\n",
            "Item\t\t\t Price\n",
            "External Hard Disk \t 5000\n",
            "RAM \t 2000\n",
            "Printer \t 6000\n",
            "Pen Drive \t 800\n",
            "**********\n",
            "Total 13800\n",
            "Check number:  1121\n",
            "Bank Name: sbi\n"
          ]
        }
      ]
    }
  ]
}